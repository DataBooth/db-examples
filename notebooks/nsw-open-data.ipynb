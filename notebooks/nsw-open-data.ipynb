{
 "cells": [
  {
   "cell_type": "code",
   "execution_count": null,
   "metadata": {},
   "outputs": [],
   "source": [
    "import io\n",
    "import json\n",
    "import time\n",
    "import unicodedata\n",
    "from pathlib import Path\n",
    "\n",
    "import folium\n",
    "import httpx\n",
    "import pandas as pd\n",
    "import tomli\n",
    "from cachetools import TTLCache\n",
    "from folium import plugins\n",
    "from IPython.core.display import Image\n",
    "from loguru import logger\n",
    "from PIL import Image as pImage"
   ]
  },
  {
   "cell_type": "markdown",
   "metadata": {},
   "source": [
    "## Read API key from `.toml` file"
   ]
  },
  {
   "cell_type": "code",
   "execution_count": null,
   "metadata": {},
   "outputs": [],
   "source": [
    "def read_config_file(config_file):\n",
    "    config_path = Path(config_file)\n",
    "    if not config_path.exists():\n",
    "        logger.error(f\"Config file does not exist: {config_file}\")\n",
    "        raise FileNotFoundError(f\"Config file does not exist: {config_file}\")\n",
    "\n",
    "    try:\n",
    "        with config_path.open(\"rb\") as f:\n",
    "            app_config = tomli.load(f)\n",
    "            n_items = len(app_config.get(\"NSW_OPEN_DATA\", {}))\n",
    "            logger.info(f\"Loaded {n_items} items from {config_file}\")\n",
    "            return app_config\n",
    "    except Exception as e:\n",
    "        logger.error(f\"Failed to read or parse the config file: {config_file}. Error: {e}\")\n",
    "        raise"
   ]
  },
  {
   "cell_type": "code",
   "execution_count": null,
   "metadata": {},
   "outputs": [],
   "source": [
    "API_CONFIG_FILE = Path(\"../nsw_open_data.toml\")\n",
    "api_config = read_config_file(API_CONFIG_FILE)"
   ]
  },
  {
   "cell_type": "code",
   "execution_count": null,
   "metadata": {},
   "outputs": [],
   "source": [
    "# def show_api_key(api_config):\n",
    "#     try:\n",
    "#         api_details = api_config[\"NSW_OPEN_DATA\"]\n",
    "#         api_key = api_details[\"API_KEY\"]\n",
    "#         show_key = api_details.get(\"SHOW_KEY\", False)\n",
    "#         url = api_details[\"URL\"]\n",
    "#         obscure_length = 5\n",
    "#         _REPL_CHAR = \"█\"  # Using a direct character for simplicity\n",
    "\n",
    "#         logger.info(f\"API key for: {url}\")\n",
    "#         len_api_key = len(api_key)\n",
    "#         logger.info(f\"{len_api_key} characters in length\")\n",
    "\n",
    "#         if show_key:\n",
    "#             display_key = api_key\n",
    "#         else:\n",
    "#             obscured_portion = _REPL_CHAR * (len_api_key - obscure_length * 2)\n",
    "#             display_key = f\"{api_key[:obscure_length]}{obscured_portion}{api_key[-obscure_length:]}\"\n",
    "\n",
    "#         logger.info(display_key)\n",
    "#     except KeyError as e:\n",
    "#         logger.error(f\"Missing key in API configuration: {e}\")\n",
    "#     except Exception as e:\n",
    "#         logger.error(f\"Error displaying API key: {e}\")"
   ]
  },
  {
   "cell_type": "code",
   "execution_count": null,
   "metadata": {},
   "outputs": [],
   "source": [
    "# show_api_key(api_config)"
   ]
  },
  {
   "cell_type": "markdown",
   "metadata": {},
   "source": [
    "## Example 1 - Look up cark park information\n",
    "\n",
    "API: [https://opendata.transport.nsw.gov.au/dataset/car-park-api](https://opendata.transport.nsw.gov.au/dataset/car-park-api)"
   ]
  },
  {
   "cell_type": "code",
   "execution_count": null,
   "metadata": {},
   "outputs": [],
   "source": [
    "def get_carpark_info():\n",
    "    API_URL = \"https://api.transport.nsw.gov.au/v1/carpark\"\n",
    "    response = httpx.get(\n",
    "        API_URL,\n",
    "        headers={\n",
    "            \"Authorization\": \"apikey \" + api_config[\"NSW_OPEN_DATA\"][\"API_KEY\"],\n",
    "            \"Accept\": \"application/json\",\n",
    "        },\n",
    "    )\n",
    "    return pd.DataFrame.from_dict(response.json(), orient=\"index\", columns=[\"Car Park Name\"])"
   ]
  },
  {
   "cell_type": "code",
   "execution_count": null,
   "metadata": {},
   "outputs": [],
   "source": [
    "get_carpark_info()"
   ]
  },
  {
   "cell_type": "markdown",
   "metadata": {},
   "source": [
    "## Example 2 - Get toll/motorway information\n",
    "\n",
    "API: [https://opendata.transport.nsw.gov.au/dataset/toll-calculator-api](https://opendata.transport.nsw.gov.au/dataset/toll-calculator-api)"
   ]
  },
  {
   "cell_type": "markdown",
   "metadata": {},
   "source": [
    "### Part A - Get motorway information"
   ]
  },
  {
   "cell_type": "code",
   "execution_count": null,
   "metadata": {},
   "outputs": [],
   "source": [
    "def get_motorway_info():\n",
    "    API_URL = \"https://api.transport.nsw.gov.au/v2/roads/toll_calc/data\"\n",
    "    response = httpx.get(\n",
    "        API_URL,\n",
    "        headers={\n",
    "            \"Authorization\": \"apikey \" + api_config[\"NSW_OPEN_DATA\"][\"API_KEY\"],\n",
    "            \"Accept\": \"application/json\",\n",
    "        },\n",
    "    )\n",
    "    return pd.DataFrame(response.json()[\"motorways\"])"
   ]
  },
  {
   "cell_type": "code",
   "execution_count": null,
   "metadata": {},
   "outputs": [],
   "source": [
    "get_motorway_info()"
   ]
  },
  {
   "cell_type": "markdown",
   "metadata": {},
   "source": [
    "### Part B - Toll calculation for route between two GPS positions"
   ]
  },
  {
   "cell_type": "code",
   "execution_count": null,
   "metadata": {},
   "outputs": [],
   "source": [
    "def get_toll_route():\n",
    "    API_URL = \"https://api.transport.nsw.gov.au/v2/roads/toll_calc/route\"\n",
    "    response = httpx.post(\n",
    "        API_URL,\n",
    "        headers={\n",
    "            \"Authorization\": \"apikey \" + api_config[\"NSW_OPEN_DATA\"][\"API_KEY\"],\n",
    "            \"Accept\": \"application/json\",\n",
    "            \"Content-Type\": \"application/json\",\n",
    "        },\n",
    "        data=data_json,\n",
    "    )\n",
    "    return response.json()"
   ]
  },
  {
   "cell_type": "code",
   "execution_count": null,
   "metadata": {},
   "outputs": [],
   "source": [
    "data = {\n",
    "    \"origin\": {\"lat\": -33.8819, \"lng\": 151.2517, \"name\": \"string\"},\n",
    "    \"destination\": {\"lat\": -33.8509, \"lng\": 151.2207, \"name\": \"string\"},\n",
    "    \"vehicleClass\": \"A\",\n",
    "    \"vehicleClassByMotorway\": {\n",
    "        \"LCT\": \"A\",\n",
    "        \"CCT\": \"A\",\n",
    "        \"ED\": \"A\",\n",
    "        \"M2\": \"A\",\n",
    "        \"M5\": \"A\",\n",
    "        \"M7\": \"A\",\n",
    "        \"SHB\": \"A\",\n",
    "        \"SHT\": \"A\",\n",
    "        \"M4\": \"A\",\n",
    "    },\n",
    "    \"excludeToll\": \"false\",\n",
    "    \"includeSteps\": \"false\",\n",
    "    \"departureTime\": \"2021-08-07T05:21:12.342Z\",\n",
    "}\n",
    "\n",
    "data_json = json.dumps(data).replace('\"true\"', \"true\").replace('\"false\"', \"false\")  # fix bool types"
   ]
  },
  {
   "cell_type": "code",
   "execution_count": null,
   "metadata": {},
   "outputs": [],
   "source": [
    "get_toll_route();"
   ]
  },
  {
   "cell_type": "markdown",
   "metadata": {},
   "source": [
    "## Generalisation\n",
    "\n"
   ]
  },
  {
   "cell_type": "code",
   "execution_count": null,
   "metadata": {},
   "outputs": [],
   "source": [
    "# Initialize a cache with a maximum size of 100 items and items expire after 3600 seconds (1 hour)\n",
    "cache = TTLCache(maxsize=100, ttl=3600)\n",
    "\n",
    "\n",
    "def make_api_request(api_name, endpoint, method=\"GET\", headers=None, data=None):\n",
    "    # Retrieve API configuration\n",
    "    base_url = api_config[api_name][\"BASE_URL\"]\n",
    "    common_headers = api_config[api_name][\"HEADERS\"]\n",
    "\n",
    "    # Construct the full URL\n",
    "    url = f\"{base_url}{endpoint}\"\n",
    "\n",
    "    # Merge common headers with any additional headers\n",
    "    if headers:\n",
    "        all_headers = {**common_headers, **headers}\n",
    "    else:\n",
    "        all_headers = common_headers\n",
    "\n",
    "    # Generate a unique cache key based on the request parameters\n",
    "    cache_key = (url, method, frozenset(all_headers.items()), frozenset(data.items()) if data else None)\n",
    "\n",
    "    # Check if the response is cached\n",
    "    if cache_key in cache:\n",
    "        return cache[cache_key]\n",
    "\n",
    "    # Make the API request\n",
    "    try:\n",
    "        if method.upper() == \"GET\":\n",
    "            response = httpx.get(url, headers=all_headers)\n",
    "        elif method.upper() == \"POST\":\n",
    "            response = httpx.post(url, headers=all_headers, json=data)\n",
    "        else:\n",
    "            raise ValueError(\"Unsupported HTTP method\")\n",
    "\n",
    "        response.raise_for_status()  # Raise an exception for HTTP error responses\n",
    "        result = response.json()\n",
    "\n",
    "        # Cache the result\n",
    "        cache[cache_key] = result\n",
    "\n",
    "        return result\n",
    "    except Exception as e:\n",
    "        logger.error(f\"Error making API request: {e}\")\n",
    "        return None"
   ]
  },
  {
   "cell_type": "code",
   "execution_count": null,
   "metadata": {},
   "outputs": [],
   "source": [
    "def get_carpark_info_new():\n",
    "    endpoint = \"/v1/carpark\"\n",
    "    response = make_api_request(\"NSW_OPEN_DATA\", endpoint)\n",
    "    if response:\n",
    "        return pd.DataFrame.from_dict(response, orient=\"index\", columns=[\"Car Park Name\"])\n",
    "    else:\n",
    "        return pd.DataFrame()  # Return an empty DataFrame in case of an error"
   ]
  },
  {
   "cell_type": "code",
   "execution_count": null,
   "metadata": {},
   "outputs": [],
   "source": [
    "get_carpark_info_new()"
   ]
  },
  {
   "cell_type": "code",
   "execution_count": null,
   "metadata": {},
   "outputs": [],
   "source": [
    "def get_motorway_info_new():\n",
    "    endpoint = \"/v2/roads/toll_calc/data\"\n",
    "    response = make_api_request(\"NSW_OPEN_DATA\", endpoint)\n",
    "    if response:\n",
    "        return pd.DataFrame(response[\"motorways\"])\n",
    "    else:\n",
    "        return pd.DataFrame()  # Return an empty DataFrame in case of an error"
   ]
  },
  {
   "cell_type": "code",
   "execution_count": null,
   "metadata": {},
   "outputs": [],
   "source": [
    "get_motorway_info_new()"
   ]
  },
  {
   "cell_type": "code",
   "execution_count": null,
   "metadata": {},
   "outputs": [],
   "source": [
    "def get_toll_route_new(data):\n",
    "    endpoint = \"/v2/roads/toll_calc/route\"\n",
    "    headers = {\"Content-Type\": \"application/json\"}  # Additional headers specific to this request\n",
    "    response = make_api_request(\"NSW_OPEN_DATA\", endpoint, method=\"POST\", headers=headers, data=data)\n",
    "    return response"
   ]
  },
  {
   "cell_type": "code",
   "execution_count": null,
   "metadata": {},
   "outputs": [],
   "source": [
    "get_toll_route_new(data)"
   ]
  },
  {
   "cell_type": "markdown",
   "metadata": {},
   "source": [
    "## Example 3 - Lookup address\n",
    "\n",
    "API: [https://data.nsw.gov.au/data/dataset/lpi-web-services-address-location-service](https://data.nsw.gov.au/data/dataset/lpi-web-services-address-location-service)"
   ]
  },
  {
   "cell_type": "code",
   "execution_count": null,
   "metadata": {},
   "outputs": [],
   "source": [
    "## Address Lookup (legacy API example)\n",
    "\n",
    "\n",
    "def get_address_info(houseNumber, roadName, roadType, suburb, postCode):\n",
    "    URL = \"http://maps.six.nsw.gov.au/services/public/Address_Location?\"\n",
    "    URL += \"houseNumber=\" + houseNumber\n",
    "    URL += \"&roadName=\" + roadName\n",
    "    URL += \"&roadType=\" + roadType\n",
    "    URL += \"&suburb=\" + suburb\n",
    "    URL += \"&postCode\" + postCode\n",
    "    URL += \"&projection=EPSG%3A4326\"\n",
    "    # logger.info(URL)\n",
    "    response = httpx.get(URL)\n",
    "    return response.json()[\"addressResult\"][\"addresses\"]"
   ]
  },
  {
   "cell_type": "code",
   "execution_count": null,
   "metadata": {},
   "outputs": [],
   "source": [
    "# Example - Kirribilli House\n",
    "get_address_info(\"109\", \"Kirribilli\", \"Ave\", \"Kirribilli\", \"2061\")"
   ]
  },
  {
   "cell_type": "code",
   "execution_count": null,
   "metadata": {},
   "outputs": [],
   "source": [
    "def map_address(houseNumber, roadName, roadType, suburb, postCode):\n",
    "    longitude = get_address_info(houseNumber, roadName, roadType, suburb, postCode)[0][\"addressPoint\"][\n",
    "        \"centreX\"\n",
    "    ]\n",
    "    latitude = get_address_info(houseNumber, roadName, roadType, suburb, postCode)[0][\"addressPoint\"][\n",
    "        \"centreY\"\n",
    "    ]\n",
    "    addressString = get_address_info(houseNumber, roadName, roadType, suburb, postCode)[0][\n",
    "        \"addressString\"\n",
    "    ]\n",
    "    fmap = folium.Map(location=[latitude, longitude], zoom_start=13)\n",
    "    tooltip = \"Click me!\"\n",
    "    folium.Marker([latitude, longitude], popup=addressString, tooltip=tooltip).add_to(fmap)\n",
    "    return fmap"
   ]
  },
  {
   "cell_type": "code",
   "execution_count": null,
   "metadata": {},
   "outputs": [],
   "source": [
    "mini_map = plugins.MiniMap(toggle_display=True)\n",
    "fmap = map_address(\"109\", \"Kirribilli\", \"Ave\", \"Kirribilli\", \"2061\")\n",
    "fmap.add_child(mini_map);"
   ]
  },
  {
   "cell_type": "code",
   "execution_count": null,
   "metadata": {},
   "outputs": [],
   "source": [
    "def display_and_export_map(png_filename=\"mymap.png\"):\n",
    "    image_data = fmap._to_png()\n",
    "    image = pImage.open(io.BytesIO(image_data))\n",
    "    # image.show()\n",
    "    image.save(png_filename)\n",
    "    # display(Image(image_data))\n",
    "    return png_filename"
   ]
  },
  {
   "cell_type": "code",
   "execution_count": null,
   "metadata": {},
   "outputs": [],
   "source": [
    "display_and_export_map()"
   ]
  },
  {
   "cell_type": "markdown",
   "metadata": {},
   "source": [
    "![My Map](mymap.png)"
   ]
  },
  {
   "cell_type": "markdown",
   "metadata": {},
   "source": []
  }
 ],
 "metadata": {
  "front-matter": {
   "date": "2021-08-09",
   "subtitle": "Creating value from open data",
   "title": "Accessing NSW Open Data via APIs"
  },
  "interpreter": {
   "hash": "f240be019856415b64564560067a995388062410618151689d60bca2458eef6d"
  },
  "kernelspec": {
   "display_name": "Python 3 (ipykernel)",
   "language": "python",
   "name": "python3"
  },
  "language_info": {
   "codemirror_mode": {
    "name": "ipython",
    "version": 3
   },
   "file_extension": ".py",
   "mimetype": "text/x-python",
   "name": "python",
   "nbconvert_exporter": "python",
   "pygments_lexer": "ipython3",
   "version": "3.11.7"
  }
 },
 "nbformat": 4,
 "nbformat_minor": 2
}
