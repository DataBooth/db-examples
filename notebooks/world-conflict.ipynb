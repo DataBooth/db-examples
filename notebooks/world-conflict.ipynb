{
 "cells": [
  {
   "cell_type": "code",
   "execution_count": null,
   "metadata": {},
   "outputs": [],
   "source": [
    "import requests\n",
    "from bs4 import BeautifulSoup\n",
    "import pandas as pd"
   ]
  },
  {
   "cell_type": "code",
   "execution_count": 1,
   "metadata": {},
   "outputs": [],
   "source": [
    "DATA_URL = \"https://en.wikipedia.org/wiki/List_of_ongoing_armed_conflicts\""
   ]
  },
  {
   "cell_type": "code",
   "execution_count": null,
   "metadata": {},
   "outputs": [],
   "source": [
    "DATA_URL = \"https://en.wikipedia.org/wiki/List_of_ongoing_armed_conflicts\"\n",
    "\n",
    "# Fetch the page\n",
    "response = requests.get(DATA_URL)\n",
    "soup = BeautifulSoup(response.text, \"html.parser\")\n",
    "\n",
    "# Find the first table on the page\n",
    "conflicts_table = soup.find(\"table\", {\"class\": \"wikitable\"})\n",
    "\n",
    "# Read the table into a pandas DataFrame\n",
    "df = pd.read_html(str(conflicts_table))[0]\n",
    "\n",
    "# Clean and process the DataFrame as needed\n",
    "# For example, renaming columns, handling missing data, etc.\n",
    "df.columns = [\"Conflict\", \"Location\", \"Date\", \"Casualties\"]\n",
    "\n",
    "print(df.head())"
   ]
  }
 ],
 "metadata": {
  "kernelspec": {
   "display_name": ".venv",
   "language": "python",
   "name": "python3"
  },
  "language_info": {
   "codemirror_mode": {
    "name": "ipython",
    "version": 3
   },
   "file_extension": ".py",
   "mimetype": "text/x-python",
   "name": "python",
   "nbconvert_exporter": "python",
   "pygments_lexer": "ipython3",
   "version": "3.11.7"
  }
 },
 "nbformat": 4,
 "nbformat_minor": 2
}
